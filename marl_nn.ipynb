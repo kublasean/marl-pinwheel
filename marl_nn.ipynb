{
 "cells": [
  {
   "cell_type": "code",
   "execution_count": 124,
   "metadata": {},
   "outputs": [],
   "source": [
    "%matplotlib inline\n",
    "from PIL import Image\n",
    "import matplotlib\n",
    "import matplotlib.pyplot as plt\n",
    "import torchvision.transforms as T\n",
    "import math\n",
    "import random\n",
    "import numpy as np\n",
    "import torch \n",
    "import torch.nn as nn\n",
    "import torch.optim as optim\n",
    "import torch.nn.functional as F\n",
    "import pickle\n",
    "from collections import namedtuple\n",
    "from itertools import count\n",
    "from state_gen import getkey\n",
    "from pinwheel import pinwheel, sample\n",
    "\n",
    "\n",
    "# set up matplotlib\n",
    "is_ipython = 'inline' in matplotlib.get_backend()\n",
    "if is_ipython:\n",
    "    from IPython import display\n",
    "\n",
    "plt.ion()\n",
    "\n",
    "# if gpu is to be used\n",
    "#device = torch.device(\"cpu\")\n",
    "\n",
    "fname = \"games/1.game.p\"\n",
    "target_v = pickle.load( open(\"dp/1.game.p.v\", \"rb\"))\n",
    "config = pickle.load( open(fname, \"rb\") )\n",
    "g = pinwheel(config) "
   ]
  },
  {
   "cell_type": "code",
   "execution_count": 125,
   "metadata": {},
   "outputs": [],
   "source": [
    "class DQN(nn.Module):\n",
    "\n",
    "    def __init__(self):\n",
    "        super(DQN, self).__init__()\n",
    "        self.conv1 = nn.Conv2d(3,6,2)\n",
    "        self.fc1 = nn.Linear(96, 40)\n",
    "        self.head = nn.Linear(40, 4)\n",
    "        \n",
    "        self.conv1.weight.data.fill_(0.0)\n",
    "        self.conv1.bias.data.fill_(0.0)\n",
    "        self.fc1.weight.data.fill_(0.0)\n",
    "        self.fc1.bias.data.fill_(0.0)\n",
    "        self.head.weight.data.fill_(0.0)\n",
    "        self.head.bias.data.fill_(0.0)\n",
    "\n",
    "    def forward(self, x):\n",
    "        x = F.max_pool2d(F.relu(self.conv1(x)), 2)\n",
    "        x = x.view(-1, self.num_flat_features(x))\n",
    "        x = F.relu(self.fc1(x))\n",
    "        x = self.head(x)\n",
    "        return x\n",
    "    \n",
    "    def num_flat_features(self, x):\n",
    "        size = x.size()[1:]  # all dimensions except the batch dimension\n",
    "        \n",
    "        num_features = 1\n",
    "        for s in size:\n",
    "            num_features *= s\n",
    "        return num_features\n",
    "\n",
    "Transition = namedtuple('Transition',\n",
    "                        ('state', 'action', 'next_state', 'reward'))\n",
    "\n",
    "class BatchBin(object):\n",
    "\n",
    "    def __init__(self, capacity):\n",
    "        self.capacity = capacity\n",
    "        self.memory = []\n",
    "        self.position = 0\n",
    "\n",
    "    def push(self, *args):\n",
    "        \"\"\"Saves a transition.\"\"\"\n",
    "        if len(self.memory) < self.capacity:\n",
    "            self.memory.append(None)\n",
    "        self.memory[self.position] = Transition(*args)\n",
    "        self.position = (self.position + 1) % self.capacity\n",
    "\n",
    "    def sample(self, batch_size):\n",
    "        return self.memory\n",
    "\n",
    "    def __len__(self):\n",
    "        return len(self.memory)"
   ]
  },
  {
   "cell_type": "code",
   "execution_count": 126,
   "metadata": {},
   "outputs": [],
   "source": [
    "#init screen\n",
    "# channels = (spaces, position, goal)\n",
    "screen = torch.zeros(3, 10, 10, dtype=torch.float32)\n",
    "\n",
    "#init blank channel\n",
    "for i in range(g.nrows):\n",
    "    for j in range(g.ncols):\n",
    "        if g.board[i][j] != 'x':\n",
    "            screen[0,i,j] = 1.0\n",
    "\n",
    "\n",
    "def get_screen():\n",
    "    screen[1,:,:] = 0.0\n",
    "    screen[2,:,:] = 0.0\n",
    "    # agent position / goal\n",
    "    i, j = g.pos[0]\n",
    "    screen[1,i,j] = 1.0\n",
    "    i, j = g.goals[0]\n",
    "    screen[2,i,j] = 1.0\n",
    "            \n",
    "    # Resize, and add a batch dimension (BCHW)\n",
    "    return screen.unsqueeze(0)\n",
    "    #return resize(screen).unsqueeze(0).to(device)\n",
    "\n",
    "def show_screen(state):\n",
    "    val = state.cpu().squeeze(0)[:,:g.nrows,:g.ncols]\n",
    "    plt.clf()\n",
    "    fig = plt.figure(1)\n",
    "    plt.imshow((val[0] + val[1] + val[2]/2.).numpy())\n",
    "    \n",
    "    #plt.pause(0.001)  # pause a bit so that plots are updated\n",
    "    if is_ipython:\n",
    "        display.clear_output(wait=True)\n",
    "        display.display(plt.gcf())\n",
    "    \n"
   ]
  },
  {
   "cell_type": "code",
   "execution_count": 127,
   "metadata": {},
   "outputs": [],
   "source": [
    "BATCH_SIZE = 128 #transitions\n",
    "GAMMA = 0.9\n",
    "EPS_START = 0.9\n",
    "EPS_END = 0.05\n",
    "EPS_DECAY = 400 #400 actions\n",
    "TARGET_UPDATE = 10\n",
    "\n",
    "policy_net = DQN()\n",
    "target_net = DQN()\n",
    "target_net.load_state_dict(policy_net.state_dict())\n",
    "target_net.eval()\n",
    "\n",
    "optimizer = optim.SGD(policy_net.parameters(), lr=0.01)\n",
    "\n",
    "steps_done = 0\n",
    "episode_score = []\n",
    "memory = BatchBin(BATCH_SIZE)"
   ]
  },
  {
   "cell_type": "code",
   "execution_count": 128,
   "metadata": {},
   "outputs": [],
   "source": [
    "def select_action(state):\n",
    "    global steps_done\n",
    "    sample = random.random()\n",
    "    eps_threshold = EPS_END + (EPS_START - EPS_END) * \\\n",
    "        math.exp(-1. * steps_done / EPS_DECAY)\n",
    "    steps_done += 1\n",
    "    if sample > eps_threshold:\n",
    "        with torch.no_grad():\n",
    "            return policy_net(state).max(1)[1].view(1, 1)\n",
    "    else:\n",
    "        return torch.tensor([[random.randrange(4)]], dtype=torch.long)\n",
    "\n",
    "epsilons = []\n",
    "def plot_score():\n",
    "    epsilons.append(EPS_END + (EPS_START - EPS_END) * math.exp(-1. * steps_done / EPS_DECAY))\n",
    "    plt.clf()\n",
    "    fig, (ax1, ax2) = plt.subplots(1,2)\n",
    "    durations_t = torch.tensor(episode_score, dtype=torch.float)\n",
    "    e_t = torch.tensor(epsilons, dtype=torch.float)\n",
    "    ax1.plot(durations_t.numpy())\n",
    "    ax2.plot(e_t.numpy())\n",
    "    \n",
    "    # Take 100 episode averages and plot them too\n",
    "    if len(durations_t) >= 100:\n",
    "        means = durations_t.unfold(0, 100, 1).mean(1).view(-1)\n",
    "        means = torch.cat((torch.zeros(99), means))\n",
    "        ax1.plot(means.numpy())\n",
    "\n",
    "    #plt.pause(0.001)  # pause a bit so that plots are updated\n",
    "    #if is_ipython:\n",
    "    display.clear_output(wait=True)\n",
    "    display.display(plt.gcf())\n"
   ]
  },
  {
   "cell_type": "code",
   "execution_count": 6,
   "metadata": {},
   "outputs": [],
   "source": [
    "def optimize_model():\n",
    "    if len(memory) < BATCH_SIZE:\n",
    "        return\n",
    "    transitions = memory.sample(BATCH_SIZE)\n",
    "    # Transpose the batch (see http://stackoverflow.com/a/19343/3343043 for\n",
    "    # detailed explanation).\n",
    "    batch = Transition(*zip(*transitions))\n",
    "\n",
    "    # Compute a mask of non-final states and concatenate the batch elements\n",
    "    non_final_mask = torch.tensor(tuple(map(lambda s: s is not None,\n",
    "                                          batch.next_state)), device=device, dtype=torch.uint8)\n",
    "    non_final_next_states = torch.cat([s for s in batch.next_state\n",
    "                                                if s is not None])\n",
    "    state_batch = torch.cat(batch.state)\n",
    "    action_batch = torch.cat(batch.action)\n",
    "    reward_batch = torch.cat(batch.reward)\n",
    "\n",
    "    # Compute Q(s_t, a) - the model computes Q(s_t), then we select the\n",
    "    # columns of actions taken\n",
    "    state_action_values = policy_net(state_batch).gather(1, action_batch)\n",
    "\n",
    "    # Compute V(s_{t+1}) for all next states.\n",
    "    next_state_values = torch.zeros(BATCH_SIZE, device=device)\n",
    "    next_state_values[non_final_mask] = target_net(non_final_next_states).max(1)[0].detach()\n",
    "    # Compute the expected Q values\n",
    "    expected_state_action_values = (next_state_values * GAMMA) + reward_batch\n",
    "\n",
    "    # Compute Huber loss\n",
    "    loss = F.smooth_l1_loss(state_action_values, expected_state_action_values.unsqueeze(1))\n",
    "\n",
    "    # Optimize the model\n",
    "    optimizer.zero_grad()\n",
    "    loss.backward()\n",
    "    for param in policy_net.parameters():\n",
    "        param.grad.data.clamp_(-1, 1)\n",
    "    optimizer.step()"
   ]
  },
  {
   "cell_type": "code",
   "execution_count": 146,
   "metadata": {},
   "outputs": [],
   "source": [
    "out = [[] for i in range(len(g.states))]\n",
    "crit = nn.MSELoss()\n",
    "def train_on_dp(vd):\n",
    "    for out_id, (k,state_val) in enumerate(vd.items()):\n",
    "        g.init_ep(g.states[k])\n",
    "        if g.isTerminal():\n",
    "            continue\n",
    "        state = get_screen()\n",
    "        \n",
    "        target = []\n",
    "        \n",
    "        for i in range(len(g.actions)):\n",
    "            sn, r = g.move1(g.actions[i])\n",
    "            target.append(vd[sn]*GAMMA+r)\n",
    "            g.init_ep(g.states[k])\n",
    "            \n",
    "        optimizer.zero_grad()\n",
    "        output = policy_net(state)\n",
    "        print(output)\n",
    "        print(target)\n",
    "        loss = crit(output, torch.Tensor(target).unsqueeze(0))\n",
    "        return loss\n",
    "        out[out_id].append(loss.item())\n",
    "        loss.backward()\n",
    "        #for param in policy_net.parameters():\n",
    "            #param.grad.data.clamp_(-1, 1)\n",
    "        optimizer.step()\n",
    "        return loss\n",
    "\n"
   ]
  },
  {
   "cell_type": "code",
   "execution_count": 151,
   "metadata": {},
   "outputs": [
    {
     "data": {
      "text/plain": [
       "((<ExpandBackward at 0x1d4dc6e5208>, 0),\n",
       " (<ReluBackward at 0x1d4dc6e5c50>, 0),\n",
       " (<TBackward at 0x1d4dc6e5ba8>, 0))"
      ]
     },
     "execution_count": 151,
     "metadata": {},
     "output_type": "execute_result"
    }
   ],
   "source": [
    "policy_net(get_screen()).grad_fn.next_functions"
   ]
  },
  {
   "cell_type": "code",
   "execution_count": 148,
   "metadata": {},
   "outputs": [
    {
     "name": "stdout",
     "output_type": "stream",
     "text": [
      "tensor([[0.1586, 0.1835, 0.1835, 0.1586]], grad_fn=<ThAddmmBackward>)\n",
      "[0.6561000000000001, 0.7290000000000001, 0.7290000000000001, 0.6561000000000001]\n"
     ]
    },
    {
     "data": {
      "text/plain": [
       "<AccumulateGrad at 0x1d4dd7c0da0>"
      ]
     },
     "execution_count": 148,
     "metadata": {},
     "output_type": "execute_result"
    }
   ],
   "source": [
    "loss = train_on_dp(target_v)\n",
    "loss.grad_fn.next_functions[0][0].next_functions[0][0].next_functions[0][0]"
   ]
  },
  {
   "cell_type": "code",
   "execution_count": 72,
   "metadata": {},
   "outputs": [
    {
     "ename": "AttributeError",
     "evalue": "'AccumulateGrad' object has no attribute 'grad_fn'",
     "output_type": "error",
     "traceback": [
      "\u001b[1;31m---------------------------------------------------------------------------\u001b[0m",
      "\u001b[1;31mAttributeError\u001b[0m                            Traceback (most recent call last)",
      "\u001b[1;32m<ipython-input-72-04e0decd371d>\u001b[0m in \u001b[0;36m<module>\u001b[1;34m()\u001b[0m\n\u001b[1;32m----> 1\u001b[1;33m \u001b[0ml\u001b[0m\u001b[1;33m.\u001b[0m\u001b[0mgrad_fn\u001b[0m\u001b[1;33m.\u001b[0m\u001b[0mnext_functions\u001b[0m\u001b[1;33m[\u001b[0m\u001b[1;36m0\u001b[0m\u001b[1;33m]\u001b[0m\u001b[1;33m[\u001b[0m\u001b[1;36m0\u001b[0m\u001b[1;33m]\u001b[0m\u001b[1;33m.\u001b[0m\u001b[0mnext_functions\u001b[0m\u001b[1;33m[\u001b[0m\u001b[1;36m0\u001b[0m\u001b[1;33m]\u001b[0m\u001b[1;33m[\u001b[0m\u001b[1;36m0\u001b[0m\u001b[1;33m]\u001b[0m\u001b[1;33m.\u001b[0m\u001b[0mnext_functions\u001b[0m\u001b[1;33m[\u001b[0m\u001b[1;36m0\u001b[0m\u001b[1;33m]\u001b[0m\u001b[1;33m[\u001b[0m\u001b[1;36m0\u001b[0m\u001b[1;33m]\u001b[0m\u001b[1;33m.\u001b[0m\u001b[0mnext_functions\u001b[0m\u001b[1;33m[\u001b[0m\u001b[1;36m0\u001b[0m\u001b[1;33m]\u001b[0m\u001b[1;33m[\u001b[0m\u001b[1;36m0\u001b[0m\u001b[1;33m]\u001b[0m\u001b[1;33m.\u001b[0m\u001b[0mgrad_fn\u001b[0m\u001b[1;33m\u001b[0m\u001b[0m\n\u001b[0m",
      "\u001b[1;31mAttributeError\u001b[0m: 'AccumulateGrad' object has no attribute 'grad_fn'"
     ]
    }
   ],
   "source": [
    "l.grad_fn.next_functions[0][0].next_functions[0][0].next_functions[0][0].next_functions[0][0].grad_fn"
   ]
  },
  {
   "cell_type": "code",
   "execution_count": 51,
   "metadata": {},
   "outputs": [
    {
     "data": {
      "image/png": "[encoded data removed]",
      "text/plain": [
       "<Figure size 432x288 with 1 Axes>"
      ]
     },
     "metadata": {
      "needs_background": "light"
     },
     "output_type": "display_data"
    }
   ],
   "source": [
    "for i in range(1000):\n",
    "    train_on_dp(target_v)\n",
    "\n",
    "figure = plt.figure()\n",
    "for row in out:\n",
    "    plt.plot(row)"
   ]
  },
  {
   "cell_type": "code",
   "execution_count": 7,
   "metadata": {},
   "outputs": [
    {
     "name": "stdout",
     "output_type": "stream",
     "text": [
      "0.0\n",
      "2.5\n",
      "5.0\n",
      "7.5\n",
      "10.0\n",
      "12.5\n",
      "15.0\n",
      "17.5\n",
      "20.0\n",
      "22.5\n",
      "25.0\n",
      "27.500000000000004\n",
      "30.0\n",
      "32.5\n",
      "35.0\n",
      "37.5\n",
      "40.0\n",
      "42.5\n",
      "45.0\n",
      "47.5\n",
      "50.0\n",
      "52.5\n",
      "55.00000000000001\n",
      "57.49999999999999\n",
      "60.0\n",
      "62.5\n",
      "65.0\n",
      "67.5\n",
      "70.0\n",
      "72.5\n",
      "75.0\n",
      "77.5\n",
      "80.0\n",
      "82.5\n",
      "85.0\n",
      "87.5\n",
      "90.0\n",
      "92.5\n",
      "95.0\n",
      "97.5\n",
      "Complete\n"
     ]
    }
   ],
   "source": [
    "num_episodes = 10000\n",
    "for i_episode in range(num_episodes):\n",
    "    # Initialize the environment and state\n",
    "    g.init_ep()\n",
    "    reward_sum = 0\n",
    "    for t in count():\n",
    "        state = get_screen()\n",
    "        # Select and perform an action\n",
    "        action = select_action(state)\n",
    "        sn, reward = g.move1([action.item()])\n",
    "        reward = torch.tensor([reward], device=device, dtype=torch.float)\n",
    "        reward_sum += reward\n",
    "\n",
    "        # Observe new state\n",
    "        done = g.isTerminal()\n",
    "        if not done:\n",
    "            next_state = get_screen()\n",
    "        else:\n",
    "            next_state = None\n",
    "\n",
    "        # Store the transition in memory\n",
    "        memory.push(state, action, next_state, reward)\n",
    "\n",
    "        # Perform one step of the optimization (on the target network)\n",
    "        optimize_model()\n",
    "        \n",
    "        if done or t > 20:\n",
    "            episode_score.append(t+1)\n",
    "            #plot_score()\n",
    "            break\n",
    "    # Update the target network\n",
    "    if i_episode % TARGET_UPDATE == 0:\n",
    "        target_net.load_state_dict(policy_net.state_dict())\n",
    "    if i_episode % 250 == 0:\n",
    "        print(i_episode / 10000. * 100.)\n",
    "            \n",
    "\n",
    "print('Complete')\n",
    "plt.ioff()\n"
   ]
  },
  {
   "cell_type": "code",
   "execution_count": 9,
   "metadata": {},
   "outputs": [
    {
     "data": {
      "image/png": "[encoded data removed]",
      "text/plain": [
       "<Figure size 432x288 with 2 Axes>"
      ]
     },
     "metadata": {},
     "output_type": "display_data"
    }
   ],
   "source": [
    "plot_score()"
   ]
  },
  {
   "cell_type": "code",
   "execution_count": 10,
   "metadata": {},
   "outputs": [],
   "source": [
    "import time\n",
    "def test_net():\n",
    "    g.init_ep()\n",
    "    reward_sum = 0\n",
    "    for i in range(200):\n",
    "        state = get_screen()\n",
    "        action = select_action(state)\n",
    "        sn, reward = g.move1(action)\n",
    "        show_screen(state)\n",
    "        time.sleep(1 / 20.)\n",
    "        if g.isTerminal():\n",
    "            break\n",
    "            "
   ]
  },
  {
   "cell_type": "code",
   "execution_count": null,
   "metadata": {},
   "outputs": [],
   "source": []
  },
  {
   "cell_type": "code",
   "execution_count": 11,
   "metadata": {},
   "outputs": [
    {
     "data": {
      "image/png": "[encoded data removed]",
      "text/plain": [
       "<Figure size 432x288 with 1 Axes>"
      ]
     },
     "metadata": {},
     "output_type": "display_data"
    },
    {
     "name": "stdout",
     "output_type": "stream",
     "text": [
      "[[0. 0. 0. 0.]]\n",
      "[0.9, 1.0, 1.0, 0.9]\n",
      "['^', '>', 'v', '<']\n",
      "\n"
     ]
    },
    {
     "data": {
      "image/png": "[encoded data removed]",
      "text/plain": [
       "<Figure size 432x288 with 1 Axes>"
      ]
     },
     "metadata": {
      "needs_background": "light"
     },
     "output_type": "display_data"
    }
   ],
   "source": [
    "\n",
    "        \n",
    "        show_screen(state)\n",
    "        print(action_val.detach().numpy())\n",
    "        print(expected_action_val)\n",
    "        print(['^', '>', 'v', '<'])\n",
    "        input()\n",
    "        \n",
    "train_on_dp(target_v)"
   ]
  },
  {
   "cell_type": "code",
   "execution_count": null,
   "metadata": {},
   "outputs": [],
   "source": []
  },
  {
   "cell_type": "code",
   "execution_count": null,
   "metadata": {},
   "outputs": [],
   "source": []
  }
 ],
 "metadata": {
  "kernelspec": {
   "display_name": "Python 3",
   "language": "python",
   "name": "python3"
  },
  "language_info": {
   "codemirror_mode": {
    "name": "ipython",
    "version": 3
   },
   "file_extension": ".py",
   "mimetype": "text/x-python",
   "name": "python",
   "nbconvert_exporter": "python",
   "pygments_lexer": "ipython3",
   "version": "3.7.0"
  }
 },
 "nbformat": 4,
 "nbformat_minor": 1
}
