{
 "cells": [
  {
   "cell_type": "code",
   "execution_count": 1,
   "metadata": {
    "collapsed": true
   },
   "outputs": [],
   "source": [
    "%matplotlib inline\n",
    "import matplotlib\n",
    "import matplotlib.pyplot as plt\n",
    "import numpy as np\n",
    "import pickle \n",
    "import random\n",
    "from state_gen import print_board, getkey\n",
    "from pinwheel import pinwheel, sample\n",
    "import solve_dp as dp\n",
    "from itertools import count\n",
    "\n",
    "\n",
    "# set up matplotlib\n",
    "is_ipython = 'inline' in matplotlib.get_backend()\n",
    "if is_ipython:\n",
    "    from IPython import display\n",
    "plt.ion()"
   ]
  },
  {
   "cell_type": "code",
   "execution_count": 2,
   "metadata": {},
   "outputs": [],
   "source": [
    "colors = [2,3,4,5]\n",
    "def show_screen(g):\n",
    "    screen = np.zeros((g.nrows, g.ncols))\n",
    "    for i in range(g.nrows):\n",
    "        for j in range(g.ncols):\n",
    "            if g.board[i][j] != 'x':\n",
    "                screen[i,j] = 1.0\n",
    "    for a in range(g.nagents):\n",
    "        i, j = g.pos[a]\n",
    "        screen[i,j] = colors[int(a)]\n",
    "    plt.clf()\n",
    "    fig = plt.figure(1)\n",
    "    plt.imshow(screen)\n",
    "    if is_ipython:\n",
    "        display.clear_output(wait=True)\n",
    "        display.display(plt.gcf())\n",
    "    "
   ]
  },
  {
   "cell_type": "code",
   "execution_count": 3,
   "metadata": {},
   "outputs": [],
   "source": [
    "def test_game(g,pi):\n",
    "        g.init_ep(g.starts)\n",
    "        for t in count():\n",
    "            show_screen(g)\n",
    "            if g.isTerminal() or t > 50:\n",
    "                return t\n",
    "            i = sample( pi[getkey(g.board)])\n",
    "            agent_actions = g.actions[i]\n",
    "            sn, r = g.move1(agent_actions)\n",
    "\n"
   ]
  },
  {
   "cell_type": "code",
   "execution_count": 4,
   "metadata": {
    "collapsed": true
   },
   "outputs": [],
   "source": [
    "def test_game_multi_agent(g,agents):\n",
    "        g.init_ep(g.starts)\n",
    "        for t in count():\n",
    "            show_screen(g)\n",
    "            if g.isTerminal() or t > 50:\n",
    "                return t\n",
    "            agent_actions = []\n",
    "            for i in range(g.nagents):\n",
    "                agent_actions.append(sample( agents[i].pi[getkey(g.board)]))\n",
    "            sn, r = g.move1(agent_actions)"
   ]
  },
  {
   "cell_type": "code",
   "execution_count": 5,
   "metadata": {
    "collapsed": true
   },
   "outputs": [],
   "source": [
    "def marl_policy_iteration(g, agents, gamma):\n",
    "    samepi = False\n",
    "    count = 0\n",
    "    while not samepi:\n",
    "        dp.calculateV(agents, g, gamma)\n",
    "        samepi = True\n",
    "        for i in range(g.nagents):\n",
    "            if not dp.calculatePi(agents, i, g, gamma):\n",
    "                samepi = False\n",
    "        count += 1\n",
    "    print(count)\n",
    "        \n",
    "    "
   ]
  },
  {
   "cell_type": "code",
   "execution_count": 6,
   "metadata": {
    "collapsed": true
   },
   "outputs": [],
   "source": [
    "def marl_policy_iteration_fixed(g, agents, gamma):\n",
    "    samepi = False\n",
    "    count = 0\n",
    "    while not samepi:\n",
    "        dp.calculateV(agents, g, gamma)\n",
    "        samepi = True\n",
    "        #for i in range(g.nagents):\n",
    "        if not dp.calculatePi(agents, 0, g, gamma):\n",
    "            samepi = False\n",
    "        count += 1\n",
    "    print(count)"
   ]
  },
  {
   "cell_type": "code",
   "execution_count": 7,
   "metadata": {},
   "outputs": [],
   "source": [
    "config = pickle.load( open(\"games/2.game.p\", \"rb\") )\n",
    "g = pinwheel(config)"
   ]
  },
  {
   "cell_type": "code",
   "execution_count": null,
   "metadata": {},
   "outputs": [],
   "source": [
    "v, pi = dp.value_iteration(g, config['v'], 0.9)\n",
    "test_game(g,pi)"
   ]
  },
  {
   "cell_type": "code",
   "execution_count": 8,
   "metadata": {},
   "outputs": [
    {
     "data": {
      "image/png": "[encoded data removed]",
      "text/plain": [
       "<matplotlib.figure.Figure at 0x1d5840bc358>"
      ]
     },
     "metadata": {},
     "output_type": "display_data"
    },
    {
     "data": {
      "text/plain": [
       "30"
      ]
     },
     "execution_count": 8,
     "metadata": {},
     "output_type": "execute_result"
    },
    {
     "data": {
      "image/png": "[encoded data removed]",
      "text/plain": [
       "<matplotlib.figure.Figure at 0x1d5840bc358>"
      ]
     },
     "metadata": {},
     "output_type": "display_data"
    }
   ],
   "source": [
    "agents = [dp.Agent(g.states, i) for i in range(g.nagents)]\n",
    "marl_policy_iteration_fixed(g, agents, 0.9)\n",
    "test_game_multi_agent(g, agents)"
   ]
  },
  {
   "cell_type": "code",
   "execution_count": 9,
   "metadata": {},
   "outputs": [
    {
     "data": {
      "image/png": "[encoded data removed]",
      "text/plain": [
       "<matplotlib.figure.Figure at 0x1d584911fd0>"
      ]
     },
     "metadata": {},
     "output_type": "display_data"
    },
    {
     "data": {
      "text/plain": [
       "51"
      ]
     },
     "execution_count": 9,
     "metadata": {},
     "output_type": "execute_result"
    },
    {
     "data": {
      "image/png": "[encoded data removed]",
      "text/plain": [
       "<matplotlib.figure.Figure at 0x1d584911fd0>"
      ]
     },
     "metadata": {},
     "output_type": "display_data"
    }
   ],
   "source": [
    "test_game_multi_agent(g, agents)"
   ]
  },
  {
   "cell_type": "code",
   "execution_count": null,
   "metadata": {
    "collapsed": true
   },
   "outputs": [],
   "source": []
  }
 ],
 "metadata": {
  "kernelspec": {
   "display_name": "Python 3",
   "language": "python",
   "name": "python3"
  },
  "language_info": {
   "codemirror_mode": {
    "name": "ipython",
    "version": 3
   },
   "file_extension": ".py",
   "mimetype": "text/x-python",
   "name": "python",
   "nbconvert_exporter": "python",
   "pygments_lexer": "ipython3",
   "version": "3.6.2"
  }
 },
 "nbformat": 4,
 "nbformat_minor": 2
}
